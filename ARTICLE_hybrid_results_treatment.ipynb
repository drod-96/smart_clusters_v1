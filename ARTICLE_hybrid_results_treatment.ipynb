{
 "cells": [
  {
   "cell_type": "markdown",
   "metadata": {},
   "source": [
    "## Librairy imports and helper function"
   ]
  },
  {
   "cell_type": "markdown",
   "metadata": {},
   "source": [
    "Importing python librairies used in this notebook ..."
   ]
  },
  {
   "cell_type": "code",
   "execution_count": 98,
   "metadata": {},
   "outputs": [],
   "source": [
    "# Base python 3.9.12\n",
    "import os.path as pth\n",
    "import matplotlib.pyplot as plt # Matplotlib v3.5.1\n",
    "import numpy as np # Numpy v1.23.4\n",
    "import os\n",
    "import json\n",
    "import h5py\n",
    "from typing import Union\n",
    "import pandas as pd\n",
    "\n",
    "import matplotlib as mpt\n",
    "from cycler import cycler\n",
    "\n",
    "mpt.rcParams['lines.linewidth'] = 1.4\n",
    "mpt.rcParams['font.size'] = 12\n",
    "mpt.rcParams['axes.prop_cycle'] = cycler(color=['r', 'g', 'b', 'y'])\n",
    "plt.style.use('default')\n",
    "\n",
    "def set_my_layout(ax: plt.Axes, xlabel: str, ylabel: str, title: str=None, legend_loc=(0.01,0.01), set_legend=True) -> plt.Axes:\n",
    "    \"\"\"Sets my personal layout used in all official figures\n",
    "\n",
    "    Args:\n",
    "        ax (plt.Axes): the pyplot axes\n",
    "        xlabel (str): x-axis label\n",
    "        ylabel (str): y-axis label\n",
    "        title (str, optional): title of the figure. Defaults to None.\n",
    "        legend_loc (tuple, optional): location of the legend box in 2D coordinates. Defaults to (0.01,0.01).\n",
    "        withlegend (bool, optional): whether to put the legend box. Defaults to False.\n",
    "        legends (_type_, optional): legends list. Defaults to None.\n",
    "\n",
    "    Returns:\n",
    "        plt.Axes: the pyplot axes (self return)\n",
    "    \"\"\"\n",
    "    \n",
    "    if title != None:\n",
    "        ax.set_title(title, fontdict={'color': 'black', 'size': 14})\n",
    "    ax.set_xlabel(xlabel, fontdict={'color': 'black', 'size': 14})\n",
    "    ax.set_ylabel(ylabel, fontdict={'color': 'black', 'size': 14})\n",
    "    ax.tick_params(axis='y', colors='black', labelsize=14)\n",
    "    ax.tick_params(axis='x', colors='black', labelsize=14)\n",
    "    if set_legend:\n",
    "        ax.legend(prop={'size': 12}, loc=legend_loc)\n",
    "    # ax.xaxis.major.formatter._useMathText = True\n",
    "    return ax\n",
    "\n",
    "def generate_reduced_network_node_id_dict(clustered_nodes: list[int]) -> dict:\n",
    "    \"\"\"Generates dictionary to identify the remaining nodes from the original network nodes\n",
    "\n",
    "    Args:\n",
    "        clustered_nodes (list[int]): list of clustered nodes (in julia indexing)\n",
    "\n",
    "    Returns:\n",
    "        dict: dictionary to associate the original node id to the reduced network node ids\n",
    "    \"\"\"\n",
    "    step = 0\n",
    "    dict_ = {}\n",
    "    for i in range(71): # There is 71 nodes in the case study network 1\n",
    "        if (i+1) in clustered_nodes:\n",
    "            step += 1\n",
    "        dict_[i] = i-step\n",
    "    return dict_"
   ]
  },
  {
   "cell_type": "markdown",
   "metadata": {},
   "source": [
    "## Reading and loading hybrid simualtion results"
   ]
  },
  {
   "cell_type": "markdown",
   "metadata": {},
   "source": [
    "Reading the information on the aggregated clusters of the case study network 1: this json file contains the list of the clusters identified by alpha-numeric keys (e.g., \"a\", \"b\", \"manual_1\", ...), the substation nodes composing the clusters, the indices of the external pipes and the types of the clusters. In some tests, we combine two clusters identified by combinaison of identifier keys (e.g., \"g_manual_1\" reduces the network by aggregating the cluster \"g\" and the cluster \"manual_1\")."
   ]
  },
  {
   "cell_type": "code",
   "execution_count": null,
   "metadata": {},
   "outputs": [],
   "source": [
    "# Read json files containing information about the clusters\n",
    "\n",
    "with open('clusters_informations_for_hybrid_simulations.json') as json_file:\n",
    "    clusters_infos =  json.load(json_file)"
   ]
  },
  {
   "cell_type": "markdown",
   "metadata": {},
   "source": [
    "From the .mat files, we load the simulation results of full network physic-based simulation and the different reduced networks hybrid simulations, for the two control test scenarios presented in our paper. Note that we use the identifier of the cluster to identify the simulation results and \"var\" and \"step\" respectively for the two scenarios."
   ]
  },
  {
   "cell_type": "code",
   "execution_count": null,
   "metadata": {},
   "outputs": [],
   "source": [
    "# Simulation results are in the folder ARTICLE_hybrid_results\n",
    "\n",
    "model_considered = 'rnn' # change to cnn if needed !! Note that some hybrid simulation results does not exist in cnn\n",
    "simulation_result_folder = os.path.join('.', 'ARTICLE_hybrid_results')\n",
    "considered_clusters_keys = [\"a\", \"b\", \"c\", \"d\", \"e\", \"f\", \"g_manual_1\", \"f_manual_1\", \"m\"]\n",
    "\n",
    "# 1st scenario\n",
    "first_scenario_results = {}\n",
    "full_network_physical_file_path = os.path.join(simulation_result_folder, 'new_simulation_data_original_var_tss_dhn1.mat')\n",
    "first_scenario_results['full_physic'] = h5py.File(full_network_physical_file_path, 'r') # Dict ['load', 'mc', 'mw', 'topology_load', 'tr', 'trcs', 'trin', 'trout', 'ts', 'tsin', 'tsout']\n",
    "for cluster_key in considered_clusters_keys:\n",
    "    reduced_file_path_rnn = os.path.join(simulation_result_folder, f'hybrid_cluster_{cluster_key}_var_tss_{model_considered}.mat')\n",
    "    first_scenario_results[cluster_key] = h5py.File(reduced_file_path_rnn, 'r')\n",
    "    \n",
    "# 2nd scenario\n",
    "second_scenario_results = {}\n",
    "full_network_physical_file_path = os.path.join(simulation_result_folder, 'new_simulation_data_original_step_tss_dhn1.mat')\n",
    "second_scenario_results['full_physic'] = h5py.File(full_network_physical_file_path, 'r')\n",
    "for cluster_key in considered_clusters_keys:\n",
    "    reduced_file_path_rnn = os.path.join(simulation_result_folder, f'hybrid_cluster_{cluster_key}_step_tss_{model_considered}.mat')\n",
    "    second_scenario_results[cluster_key] = h5py.File(reduced_file_path_rnn, 'r')\n",
    "\n",
    "\n",
    "# Some preprocessing of results\n",
    "first_dynamic_step_interest = 1*60\n",
    "last_dynamic_steps_horizon = 7*24*60 - 1 # 1 week only for minute-time steps\n",
    "for key in first_scenario_results:\n",
    "    dict_ = {}\n",
    "    for physical_state_key in first_scenario_results[key]:\n",
    "        array = np.array(first_scenario_results[key][physical_state_key])\n",
    "        if physical_state_key in ['trcs', 'mc']: # We take all for those\n",
    "            dict_[physical_state_key] = array\n",
    "        else:\n",
    "            dict_[physical_state_key] = array[first_dynamic_step_interest:last_dynamic_steps_horizon,:]\n",
    "    first_scenario_results[key] = dict_\n",
    "for key in second_scenario_results:\n",
    "    dict_ = {}\n",
    "    for physical_state_key in second_scenario_results[key]:\n",
    "        array = np.array(second_scenario_results[key][physical_state_key])\n",
    "        if physical_state_key in ['trcs', 'mc']: # We take all for those\n",
    "            dict_[physical_state_key] = array\n",
    "        else:\n",
    "            dict_[physical_state_key] = array[first_dynamic_step_interest:last_dynamic_steps_horizon,:]\n",
    "    second_scenario_results[key] = dict_"
   ]
  },
  {
   "cell_type": "markdown",
   "metadata": {},
   "source": [
    "Visualizing the generation supply temperatures of the sources for both control test scenarios"
   ]
  },
  {
   "cell_type": "code",
   "execution_count": null,
   "metadata": {},
   "outputs": [],
   "source": [
    "# Showing plots\n",
    "\n",
    "# 1st scenario\n",
    "fig, ax = plt.subplots(figsize=(8,6))\n",
    "ax.plot(first_scenario_results['full_physic']['ts'][:,0], c='black') # Supply temperatures at the source node v_1\n",
    "set_my_layout(ax=ax, xlabel='Time steps', ylabel='Generation supply temperature (°C)',\n",
    "              legend_loc=[0.8,0.8],\n",
    "              set_legend=False)\n",
    "plt.savefig(os.path.join('.', 'ARTICLE_images_plots', 'generation_supply_temperatures_step.svg'))\n",
    "plt.show()\n",
    "\n",
    "# 2nd scenario\n",
    "fig, ax = plt.subplots(figsize=(8,6))\n",
    "ax.plot(second_scenario_results['full_physic']['ts'][:,0], c='black') # Supply temperatures at the source node v_1\n",
    "set_my_layout(ax=ax, xlabel='Time steps', ylabel='Generation supply temperature (°C)',\n",
    "              legend_loc=[0.8,0.8],\n",
    "              set_legend=False)\n",
    "plt.savefig(os.path.join('.', 'ARTICLE_images_plots', 'generation_supply_temperatures_var.svg'))\n",
    "plt.show()\n"
   ]
  },
  {
   "cell_type": "markdown",
   "metadata": {},
   "source": [
    "## Assessing hybrid simulation performances"
   ]
  },
  {
   "cell_type": "markdown",
   "metadata": {},
   "source": [
    "Function used to measure and derive the performances of the hybrid simulation on the reduced network"
   ]
  },
  {
   "cell_type": "code",
   "execution_count": 87,
   "metadata": {},
   "outputs": [],
   "source": [
    "# Function\n",
    "\n",
    "def get_hybrid_simulation_performances(clusters_keys:  Union[list[str],str], cluster_key_result: str = None, all_performances_dict = {}) -> None:\n",
    "    \"\"\"Assess the performances of the hybrid simulation with the reduced network\n",
    "\n",
    "    Args:\n",
    "        clusters_keys (str): the aggregated clusters keys\n",
    "        cluster_key_result (str): the key used in the results dictionaries, None if clusters_keys is a str otherwise it must be defined\n",
    "        all_performances_dict (dict): contains all considered so far clusters hybrid simulation performances\n",
    "\n",
    "    Returns:\n",
    "        None\n",
    "    \"\"\"\n",
    "    \n",
    "    incoming_pipes_ids = []\n",
    "    incoming_pipes_ids_trout_nodes = []\n",
    "    \n",
    "    outgoing_pipes_ids = []\n",
    "    outgoing_pipes_ids_tsout_nodes = []\n",
    "    \n",
    "    clustered_nodes = []\n",
    "    associated_node_ids = dict()\n",
    "    perfs = dict()\n",
    "    \n",
    "    if type(clusters_keys) == list:\n",
    "        if cluster_key_result == None:\n",
    "            raise Exception('Cluster key result must be defined for many clusters considered')\n",
    "        for key in clusters_keys:\n",
    "            cluster_info = clusters_infos[f'cluster_{key}']\n",
    "            print(cluster_info)\n",
    "            incoming_pipes_ids.extend(cluster_info['incoming_pipes_id'])\n",
    "            incoming_pipes_ids_trout_nodes.extend(cluster_info['incoming_pipes_remixing_node_id'])\n",
    "            outgoing_pipes_ids.extend(cluster_info['outgoing_pipe_id'])\n",
    "            outgoing_pipes_ids_tsout_nodes.extend(cluster_info['outgoing_pipe_remixing_node_id'])\n",
    "            clustered_nodes.extend(cluster_info['cluster_nodes'])\n",
    "\n",
    "        associated_node_ids = generate_reduced_network_node_id_dict(clustered_nodes)\n",
    "        key = cluster_key_result # key to identify dict of results\n",
    "        \n",
    "    else:\n",
    "        key = clusters_keys\n",
    "        cluster_info = clusters_infos[f'cluster_{key}']\n",
    "        print(cluster_info)\n",
    "        incoming_pipes_ids.extend(cluster_info['incoming_pipes_id'])\n",
    "        incoming_pipes_ids_trout_nodes.extend(cluster_info['incoming_pipes_remixing_node_id'])\n",
    "        outgoing_pipes_ids.extend(cluster_info['outgoing_pipe_id'])\n",
    "        outgoing_pipes_ids_tsout_nodes.extend(cluster_info['outgoing_pipe_remixing_node_id'])\n",
    "        clustered_nodes.extend(cluster_info['cluster_nodes'])\n",
    "        associated_node_ids = generate_reduced_network_node_id_dict(cluster_info['cluster_nodes'])\n",
    "\n",
    "    perfs['clustered_nodes_percentage'] = 100*(len(clustered_nodes) / 71)\n",
    "    perfs['clustered_pipes_percentage'] = 100*((len(clustered_nodes)+len(outgoing_pipes_ids)) / 71) # Tree-like assumption => number of nodes == number edges\n",
    "    \n",
    "    loads_mare_f = []\n",
    "    loads_mare_s = []\n",
    "    loads_std_f = []\n",
    "    loads_std_s = []\n",
    "    \n",
    "    for i, el in enumerate(incoming_pipes_ids):\n",
    "        el_i = incoming_pipes_ids_trout_nodes[i]\n",
    "        pipe_index = int(el)-1 # Ingoing pipe index in the original network (needed for effective comparison) !! -1 as julia are indexed from 1\n",
    "        node_index = int(el_i)-1 # Adjacent nodes to the cluster (in the return direction) !! -1 as julia are indexed from 1\n",
    "\n",
    "        mw_f = np.abs(np.mean(first_scenario_results['full_physic']['mw'][:,pipe_index]))\n",
    "        mw_s = np.abs(np.mean(second_scenario_results['full_physic']['mw'][:,pipe_index]))\n",
    "        print(f'Original incoming pipe (1st scenario) {el} traversed by mass flow rates with nominal value of {mw_f:.2f} Kg/s')\n",
    "        print(f'Original incoming pipe (2nd scenario) {el} traversed by mass flow rates with nominal value of {mw_s:.2f} Kg/s')\n",
    "\n",
    "        tr_node_mix = first_scenario_results['full_physic']['tr'][:,node_index]\n",
    "        ts_node_mix = first_scenario_results['full_physic']['ts'][:,node_index]\n",
    "        tr_node_mix_reduced = first_scenario_results[key]['tr'][:,associated_node_ids[node_index]]\n",
    "        ts_node_mix_reduced = first_scenario_results[key]['ts'][:,associated_node_ids[node_index]]\n",
    "        \n",
    "        pw_adj_node = mw_f*4200*(ts_node_mix-tr_node_mix)\n",
    "        pw_adj_node_reduced = mw_f*4200*(ts_node_mix_reduced-tr_node_mix_reduced)\n",
    "        \n",
    "        loads_mare_f.append(100*np.mean(np.abs(1 - pw_adj_node_reduced/pw_adj_node)))\n",
    "        loads_std_f.append(100*np.std(np.abs(1 - pw_adj_node_reduced/pw_adj_node)))\n",
    "        \n",
    "        tr_node_mix = second_scenario_results['full_physic']['tr'][:,node_index]\n",
    "        ts_node_mix = second_scenario_results['full_physic']['ts'][:,node_index]\n",
    "        tr_node_mix_reduced = second_scenario_results[key]['tr'][:,associated_node_ids[node_index]]\n",
    "        ts_node_mix_reduced = second_scenario_results[key]['ts'][:,associated_node_ids[node_index]]\n",
    "        \n",
    "        pw_adj_node = mw_f*4200*(ts_node_mix-tr_node_mix)\n",
    "        pw_adj_node_reduced = mw_s*4200*(ts_node_mix_reduced-tr_node_mix_reduced)\n",
    "        \n",
    "        loads_mare_s.append(100*np.mean(np.abs(1 - pw_adj_node_reduced/pw_adj_node)))\n",
    "        loads_std_s.append(100*np.std(np.abs(1 - pw_adj_node_reduced/pw_adj_node)))\n",
    "        \n",
    "    for i, el in enumerate(outgoing_pipes_ids):\n",
    "        el_i = outgoing_pipes_ids_tsout_nodes[i]\n",
    "        pipe_index = int(el)-1\n",
    "        node_index = int(el_i)-1\n",
    "        \n",
    "        mw_f = np.abs(np.mean(first_scenario_results['full_physic']['mw'][:,pipe_index]))\n",
    "        mw_s = np.abs(np.mean(second_scenario_results['full_physic']['mw'][:,pipe_index]))\n",
    "        print(f'Original outgoing pipe (1st scenario) {el} traversed by mass flow rates with nominal value of {mw_f:.2f} Kg/s')\n",
    "        print(f'Original outgoing pipe (2nd scenario) {el} traversed by mass flow rates with nominal value of {mw_s:.2f} Kg/s')\n",
    "\n",
    "        tr_node_mix = first_scenario_results['full_physic']['tr'][:,node_index]\n",
    "        ts_node_mix = first_scenario_results['full_physic']['ts'][:,node_index]\n",
    "        tr_node_mix_reduced = first_scenario_results[key]['tr'][:,associated_node_ids[node_index]]\n",
    "        ts_node_mix_reduced = first_scenario_results[key]['ts'][:,associated_node_ids[node_index]]\n",
    "        \n",
    "        pw_adj_node = mw_f*4200*(ts_node_mix-tr_node_mix)\n",
    "        pw_adj_node_reduced = mw_f*4200*(ts_node_mix_reduced-tr_node_mix_reduced)\n",
    "        \n",
    "        loads_mare_f.append(100*np.mean(np.abs(1 - pw_adj_node_reduced/pw_adj_node)))\n",
    "        loads_std_f.append(100*np.std(np.abs(1 - pw_adj_node_reduced/pw_adj_node)))\n",
    "        \n",
    "        tr_node_mix = second_scenario_results['full_physic']['tr'][:,node_index]\n",
    "        ts_node_mix = second_scenario_results['full_physic']['ts'][:,node_index]\n",
    "        tr_node_mix_reduced = second_scenario_results[key]['tr'][:,associated_node_ids[node_index]]\n",
    "        ts_node_mix_reduced = second_scenario_results[key]['ts'][:,associated_node_ids[node_index]]\n",
    "        \n",
    "        pw_adj_node = mw_f*4200*(ts_node_mix-tr_node_mix)\n",
    "        pw_adj_node_reduced = mw_f*4200*(ts_node_mix_reduced-tr_node_mix_reduced)\n",
    "        \n",
    "        loads_mare_s.append(100*np.mean(np.abs(1 - pw_adj_node_reduced/pw_adj_node)))\n",
    "        loads_std_s.append(100*np.std(np.abs(1 - pw_adj_node_reduced/pw_adj_node)))\n",
    "\n",
    "    print(f'Thermal loads conservation (1st scenario) MARE = {np.median(loads_mare_f):.4f} % with std {np.median(loads_std_f):.4f}') \n",
    "    print(f'Thermal loads conservation (2nd scenario) MARE = {np.median(loads_mare_s):.4f} % with std {np.median(loads_std_s):.4f}') \n",
    "    \n",
    "    tr_node_source_f = first_scenario_results['full_physic']['tr'][:,0]\n",
    "    ts_node_source_f = first_scenario_results['full_physic']['ts'][:,0]\n",
    "    tr_node_source_reduced_f = first_scenario_results[key]['tr'][:,associated_node_ids[0]]\n",
    "    ts_node_source_reduced_f = first_scenario_results[key]['ts'][:,associated_node_ids[0]]\n",
    "\n",
    "    pw_adj_node_f = first_scenario_results['full_physic']['mw'][:,0]*4200*(ts_node_source_f-tr_node_source_f)\n",
    "    pw_adj_node_reduced_f = first_scenario_results[key]['mw'][:,0]*4200*(ts_node_source_reduced_f-tr_node_source_reduced_f)\n",
    "\n",
    "    tr_node_source_s = second_scenario_results['full_physic']['tr'][:,0]\n",
    "    ts_node_source_s = second_scenario_results['full_physic']['ts'][:,0]\n",
    "    tr_node_source_reduced_s = second_scenario_results[key]['tr'][:,associated_node_ids[0]]\n",
    "    ts_node_source_reduced_s = second_scenario_results[key]['ts'][:,associated_node_ids[0]]\n",
    "\n",
    "    pw_adj_node_s = first_scenario_results['full_physic']['mw'][:,0]*4200*(ts_node_source_s-tr_node_source_s)\n",
    "    pw_adj_node_reduced_s = first_scenario_results[key]['mw'][:,0]*4200*(ts_node_source_reduced_s-tr_node_source_reduced_s)\n",
    "    \n",
    "    perfs['1st_scenario_pw_source'] = 100*(np.abs(1 - pw_adj_node_reduced_f/pw_adj_node_f))\n",
    "    perfs['2nd_scenario_pw_source'] = 100*(np.abs(1 - pw_adj_node_reduced_s/pw_adj_node_s))\n",
    "        \n",
    "    print(f'Source return temperature conservation (1st scenario) MAE = {np.mean(np.abs(tr_node_source_f-tr_node_source_reduced_f)):.4f} °C with std {np.std(np.abs(tr_node_source_f-tr_node_source_reduced_f)):.4f}') \n",
    "    print(f'Source return temperature conservation (2nd scenario) MAE = {np.mean(np.abs(tr_node_source_s-tr_node_source_reduced_s)):.4f} °C with std {np.std(np.abs(tr_node_source_s-tr_node_source_reduced_s)):.4f}') \n",
    "\n",
    "    print(f'Source generation power conservation (1st scenario) MARE = {100*np.mean(np.abs(1 - pw_adj_node_reduced_f/pw_adj_node_f)):.4f} % with std {100*np.std(np.abs(1 - pw_adj_node_reduced_f/pw_adj_node_f)):.4f}') \n",
    "    print(f'Source generation power conservation (2nd scenario) MARE = {100*np.mean(np.abs(1 - pw_adj_node_reduced_s/pw_adj_node_s)):.4f} % with std {100*np.std(np.abs(1 - pw_adj_node_reduced_s/pw_adj_node_s)):.4f}')   \n",
    "    \n",
    "    \n",
    "    all_performances_dict[key] = perfs"
   ]
  },
  {
   "cell_type": "markdown",
   "metadata": {},
   "source": [
    "### Measuring the performances of the hybrid simulations for different clusters"
   ]
  },
  {
   "cell_type": "code",
   "execution_count": 88,
   "metadata": {},
   "outputs": [],
   "source": [
    "## Performances dict\n",
    "\n",
    "all_clusters_performances = {}"
   ]
  },
  {
   "cell_type": "markdown",
   "metadata": {},
   "source": [
    "- Network reduced with cluster \"a\""
   ]
  },
  {
   "cell_type": "code",
   "execution_count": 89,
   "metadata": {},
   "outputs": [
    {
     "name": "stdout",
     "output_type": "stream",
     "text": [
      "{'cluster_key': 'a', 'cluster_type': '1-0', 'cluster_size': 2, 'cluster_nodes': [15, 23], 'incoming_pipes_id': [19], 'incoming_pipes_remixing_node_id': [13], 'outgoing_pipe_id': [], 'outgoing_pipe_remixing_node_id': []}\n",
      "Original incoming pipe (1st scenario) 19 traversed by mass flow rates with nominal value of 5.08 Kg/s\n",
      "Original incoming pipe (2nd scenario) 19 traversed by mass flow rates with nominal value of 5.05 Kg/s\n",
      "Thermal loads conservation (1st scenario) MARE = 0.0172 % with std 0.0989\n",
      "Thermal loads conservation (2nd scenario) MARE = 0.6201 % with std 0.0336\n",
      "Source return temperature conservation (1st scenario) MAE = 0.0021 °C with std 0.0118\n",
      "Source return temperature conservation (2nd scenario) MAE = 0.0021 °C with std 0.0135\n",
      "Source generation power conservation (1st scenario) MARE = 0.0049 % with std 0.0282\n",
      "Source generation power conservation (2nd scenario) MARE = 0.0054 % with std 0.0365\n"
     ]
    }
   ],
   "source": [
    "get_hybrid_simulation_performances('a', all_performances_dict=all_clusters_performances)"
   ]
  },
  {
   "cell_type": "markdown",
   "metadata": {},
   "source": [
    "- Network reduced with cluster \"b\""
   ]
  },
  {
   "cell_type": "code",
   "execution_count": 90,
   "metadata": {},
   "outputs": [
    {
     "name": "stdout",
     "output_type": "stream",
     "text": [
      "{'cluster_key': 'b', 'cluster_type': '1-0', 'cluster_size': 4, 'cluster_nodes': [43, 65, 58, 59], 'incoming_pipes_id': [33], 'incoming_pipes_remixing_node_id': [25], 'outgoing_pipe_id': [], 'outgoing_pipe_remixing_node_id': []}\n",
      "Original incoming pipe (1st scenario) 33 traversed by mass flow rates with nominal value of 12.28 Kg/s\n",
      "Original incoming pipe (2nd scenario) 33 traversed by mass flow rates with nominal value of 12.20 Kg/s\n",
      "Thermal loads conservation (1st scenario) MARE = 0.0318 % with std 0.2409\n",
      "Thermal loads conservation (2nd scenario) MARE = 0.6468 % with std 0.1833\n",
      "Source return temperature conservation (1st scenario) MAE = 0.0029 °C with std 0.0319\n",
      "Source return temperature conservation (2nd scenario) MAE = 0.0022 °C with std 0.0202\n",
      "Source generation power conservation (1st scenario) MARE = 0.0070 % with std 0.0742\n",
      "Source generation power conservation (2nd scenario) MARE = 0.0056 % with std 0.0537\n"
     ]
    }
   ],
   "source": [
    "get_hybrid_simulation_performances('b', all_performances_dict=all_clusters_performances)"
   ]
  },
  {
   "cell_type": "markdown",
   "metadata": {},
   "source": [
    "- Network reduced with cluster \"c\""
   ]
  },
  {
   "cell_type": "code",
   "execution_count": 91,
   "metadata": {},
   "outputs": [
    {
     "name": "stdout",
     "output_type": "stream",
     "text": [
      "{'cluster_key': 'c', 'cluster_type': '1-0', 'cluster_size': 9, 'cluster_nodes': [41, 27, 42, 26, 2, 3, 5, 4, 35], 'incoming_pipes_id': [38], 'incoming_pipes_remixing_node_id': [28], 'outgoing_pipe_id': [], 'outgoing_pipe_remixing_node_id': []}\n",
      "Original incoming pipe (1st scenario) 38 traversed by mass flow rates with nominal value of 29.69 Kg/s\n",
      "Original incoming pipe (2nd scenario) 38 traversed by mass flow rates with nominal value of 29.50 Kg/s\n",
      "Thermal loads conservation (1st scenario) MARE = 0.0320 % with std 0.0763\n",
      "Thermal loads conservation (2nd scenario) MARE = 0.6507 % with std 0.0818\n",
      "Source return temperature conservation (1st scenario) MAE = 0.0039 °C with std 0.0102\n",
      "Source return temperature conservation (2nd scenario) MAE = 0.0041 °C with std 0.0122\n",
      "Source generation power conservation (1st scenario) MARE = 0.0095 % with std 0.0243\n",
      "Source generation power conservation (2nd scenario) MARE = 0.0102 % with std 0.0328\n"
     ]
    }
   ],
   "source": [
    "get_hybrid_simulation_performances('c', all_performances_dict=all_clusters_performances)"
   ]
  },
  {
   "cell_type": "markdown",
   "metadata": {},
   "source": [
    "- Network reduced with cluster \"d\""
   ]
  },
  {
   "cell_type": "code",
   "execution_count": 92,
   "metadata": {},
   "outputs": [
    {
     "name": "stdout",
     "output_type": "stream",
     "text": [
      "{'cluster_key': 'd', 'cluster_type': '1-0', 'cluster_size': 9, 'cluster_nodes': [65, 43, 58, 59, 25, 24, 52, 14, 51], 'incoming_pipes_id': [18], 'incoming_pipes_remixing_node_id': [13], 'outgoing_pipe_id': [], 'outgoing_pipe_remixing_node_id': []}\n",
      "Original incoming pipe (1st scenario) 18 traversed by mass flow rates with nominal value of 21.94 Kg/s\n",
      "Original incoming pipe (2nd scenario) 18 traversed by mass flow rates with nominal value of 21.80 Kg/s\n",
      "Thermal loads conservation (1st scenario) MARE = 0.0391 % with std 0.1964\n",
      "Thermal loads conservation (2nd scenario) MARE = 0.6650 % with std 0.1016\n",
      "Source return temperature conservation (1st scenario) MAE = 0.0051 °C with std 0.0286\n",
      "Source return temperature conservation (2nd scenario) MAE = 0.0043 °C with std 0.0205\n",
      "Source generation power conservation (1st scenario) MARE = 0.0123 % with std 0.0675\n",
      "Source generation power conservation (2nd scenario) MARE = 0.0109 % with std 0.0554\n"
     ]
    }
   ],
   "source": [
    "get_hybrid_simulation_performances('d', all_performances_dict=all_clusters_performances)"
   ]
  },
  {
   "cell_type": "markdown",
   "metadata": {},
   "source": [
    "- Network reduced with cluster \"e\""
   ]
  },
  {
   "cell_type": "code",
   "execution_count": 93,
   "metadata": {},
   "outputs": [
    {
     "name": "stdout",
     "output_type": "stream",
     "text": [
      "{'cluster_key': 'e', 'cluster_type': '1-0', 'cluster_size': 12, 'cluster_nodes': [41, 27, 42, 26, 2, 3, 5, 4, 35, 28, 29, 53], 'incoming_pipes_id': [40], 'incoming_pipes_remixing_node_id': [54], 'outgoing_pipe_id': [], 'outgoing_pipe_remixing_node_id': []}\n",
      "Original incoming pipe (1st scenario) 40 traversed by mass flow rates with nominal value of 36.60 Kg/s\n",
      "Original incoming pipe (2nd scenario) 40 traversed by mass flow rates with nominal value of 36.35 Kg/s\n",
      "Thermal loads conservation (1st scenario) MARE = 0.0207 % with std 0.0709\n",
      "Thermal loads conservation (2nd scenario) MARE = 0.6697 % with std 0.0382\n",
      "Source return temperature conservation (1st scenario) MAE = 0.0059 °C with std 0.0235\n",
      "Source return temperature conservation (2nd scenario) MAE = 0.0054 °C with std 0.0148\n",
      "Source generation power conservation (1st scenario) MARE = 0.0143 % with std 0.0553\n",
      "Source generation power conservation (2nd scenario) MARE = 0.0136 % with std 0.0393\n"
     ]
    }
   ],
   "source": [
    "get_hybrid_simulation_performances('e', all_performances_dict=all_clusters_performances)"
   ]
  },
  {
   "cell_type": "markdown",
   "metadata": {},
   "source": [
    "- Network reduced with cluster \"f\""
   ]
  },
  {
   "cell_type": "code",
   "execution_count": 94,
   "metadata": {},
   "outputs": [
    {
     "name": "stdout",
     "output_type": "stream",
     "text": [
      "{'cluster_key': 'f', 'cluster_type': '1-0', 'cluster_size': 27, 'cluster_nodes': [41, 27, 42, 26, 2, 3, 5, 4, 35, 28, 29, 53, 65, 43, 58, 59, 25, 24, 52, 14, 51, 13, 15, 23, 54, 55, 34], 'incoming_pipes_id': [9], 'incoming_pipes_remixing_node_id': [6], 'outgoing_pipe_id': [], 'outgoing_pipe_remixing_node_id': []}\n",
      "Original incoming pipe (1st scenario) 9 traversed by mass flow rates with nominal value of 73.51 Kg/s\n",
      "Original incoming pipe (2nd scenario) 9 traversed by mass flow rates with nominal value of 73.02 Kg/s\n",
      "Thermal loads conservation (1st scenario) MARE = 0.0377 % with std 0.0971\n",
      "Thermal loads conservation (2nd scenario) MARE = 0.6685 % with std 0.0631\n",
      "Source return temperature conservation (1st scenario) MAE = 0.0126 °C with std 0.0439\n",
      "Source return temperature conservation (2nd scenario) MAE = 0.0125 °C with std 0.0378\n",
      "Source generation power conservation (1st scenario) MARE = 0.0304 % with std 0.1028\n",
      "Source generation power conservation (2nd scenario) MARE = 0.0312 % with std 0.1002\n"
     ]
    }
   ],
   "source": [
    "get_hybrid_simulation_performances('f', all_performances_dict=all_clusters_performances)"
   ]
  },
  {
   "cell_type": "markdown",
   "metadata": {},
   "source": [
    "- Network reduced with cluster \"f + manual_1\""
   ]
  },
  {
   "cell_type": "code",
   "execution_count": 95,
   "metadata": {},
   "outputs": [
    {
     "name": "stdout",
     "output_type": "stream",
     "text": [
      "{'cluster_key': 'f', 'cluster_type': '1-0', 'cluster_size': 27, 'cluster_nodes': [41, 27, 42, 26, 2, 3, 5, 4, 35, 28, 29, 53, 65, 43, 58, 59, 25, 24, 52, 14, 51, 13, 15, 23, 54, 55, 34], 'incoming_pipes_id': [9], 'incoming_pipes_remixing_node_id': [6], 'outgoing_pipe_id': [], 'outgoing_pipe_remixing_node_id': []}\n",
      "{'cluster_key': 'manual_1', 'cluster_type': '2-0', 'cluster_size': 18, 'cluster_nodes': [12, 19, 20, 30, 39, 47, 48, 60, 69, 11, 16, 9, 10, 7, 21, 66, 70, 49], 'incoming_pipes_id': [11, 53], 'incoming_pipes_remixing_node_id': [22, 40], 'outgoing_pipe_id': [], 'outgoing_pipe_remixing_node_id': []}\n",
      "Original incoming pipe (1st scenario) 9 traversed by mass flow rates with nominal value of 73.51 Kg/s\n",
      "Original incoming pipe (2nd scenario) 9 traversed by mass flow rates with nominal value of 73.02 Kg/s\n",
      "Original incoming pipe (1st scenario) 11 traversed by mass flow rates with nominal value of 10.15 Kg/s\n",
      "Original incoming pipe (2nd scenario) 11 traversed by mass flow rates with nominal value of 10.11 Kg/s\n",
      "Original incoming pipe (1st scenario) 53 traversed by mass flow rates with nominal value of 34.06 Kg/s\n",
      "Original incoming pipe (2nd scenario) 53 traversed by mass flow rates with nominal value of 33.83 Kg/s\n",
      "Thermal loads conservation (1st scenario) MARE = 0.1282 % with std 0.2338\n",
      "Thermal loads conservation (2nd scenario) MARE = 0.6788 % with std 0.2427\n",
      "Source return temperature conservation (1st scenario) MAE = 0.0150 °C with std 0.0659\n",
      "Source return temperature conservation (2nd scenario) MAE = 0.0127 °C with std 0.0437\n",
      "Source generation power conservation (1st scenario) MARE = 0.0361 % with std 0.1531\n",
      "Source generation power conservation (2nd scenario) MARE = 0.0315 % with std 0.1145\n"
     ]
    }
   ],
   "source": [
    "get_hybrid_simulation_performances([\"f\", \"manual_1\"], \"f_manual_1\", all_performances_dict=all_clusters_performances)"
   ]
  },
  {
   "cell_type": "markdown",
   "metadata": {},
   "source": [
    "- Network reduced with cluster \"m\""
   ]
  },
  {
   "cell_type": "code",
   "execution_count": 96,
   "metadata": {},
   "outputs": [
    {
     "name": "stdout",
     "output_type": "stream",
     "text": [
      "{'cluster_key': 'm', 'cluster_type': '1-1', 'cluster_size': 13, 'cluster_nodes': [53, 29, 28, 41, 2, 3, 4, 5, 35, 27, 42, 26, 54], 'incoming_pipes_id': [66], 'incoming_pipes_remixing_node_id': [55], 'outgoing_pipe_id': [20], 'outgoing_pipe_remixing_node_id': [13]}\n",
      "Original incoming pipe (1st scenario) 66 traversed by mass flow rates with nominal value of 66.24 Kg/s\n",
      "Original incoming pipe (2nd scenario) 66 traversed by mass flow rates with nominal value of 65.80 Kg/s\n",
      "Original outgoing pipe (1st scenario) 20 traversed by mass flow rates with nominal value of 28.52 Kg/s\n",
      "Original outgoing pipe (2nd scenario) 20 traversed by mass flow rates with nominal value of 28.34 Kg/s\n",
      "Thermal loads conservation (1st scenario) MARE = 0.0471 % with std 0.1038\n",
      "Thermal loads conservation (2nd scenario) MARE = 0.3588 % with std 0.1520\n",
      "Source return temperature conservation (1st scenario) MAE = 0.0107 °C with std 0.0294\n",
      "Source return temperature conservation (2nd scenario) MAE = 0.0100 °C with std 0.0277\n",
      "Source generation power conservation (1st scenario) MARE = 0.0259 % with std 0.0686\n",
      "Source generation power conservation (2nd scenario) MARE = 0.0249 % with std 0.0728\n"
     ]
    }
   ],
   "source": [
    "get_hybrid_simulation_performances(\"m\", all_performances_dict=all_clusters_performances)"
   ]
  },
  {
   "cell_type": "markdown",
   "metadata": {},
   "source": [
    "- Network reduced with cluster \"g_manual_1\""
   ]
  },
  {
   "cell_type": "code",
   "execution_count": 97,
   "metadata": {},
   "outputs": [
    {
     "name": "stdout",
     "output_type": "stream",
     "text": [
      "{'cluster_key': 'g', 'cluster_type': '1-1', 'cluster_size': 2, 'cluster_nodes': [55, 34], 'incoming_pipes_id': [9], 'incoming_pipes_remixing_node_id': [6], 'outgoing_pipe_id': [66], 'outgoing_pipe_remixing_node_id': [54]}\n",
      "{'cluster_key': 'manual_1', 'cluster_type': '2-0', 'cluster_size': 18, 'cluster_nodes': [12, 19, 20, 30, 39, 47, 48, 60, 69, 11, 16, 9, 10, 7, 21, 66, 70, 49], 'incoming_pipes_id': [11, 53], 'incoming_pipes_remixing_node_id': [22, 40], 'outgoing_pipe_id': [], 'outgoing_pipe_remixing_node_id': []}\n",
      "Original incoming pipe (1st scenario) 9 traversed by mass flow rates with nominal value of 73.51 Kg/s\n",
      "Original incoming pipe (2nd scenario) 9 traversed by mass flow rates with nominal value of 73.02 Kg/s\n",
      "Original incoming pipe (1st scenario) 11 traversed by mass flow rates with nominal value of 10.15 Kg/s\n",
      "Original incoming pipe (2nd scenario) 11 traversed by mass flow rates with nominal value of 10.11 Kg/s\n",
      "Original incoming pipe (1st scenario) 53 traversed by mass flow rates with nominal value of 34.06 Kg/s\n",
      "Original incoming pipe (2nd scenario) 53 traversed by mass flow rates with nominal value of 33.83 Kg/s\n",
      "Original outgoing pipe (1st scenario) 66 traversed by mass flow rates with nominal value of 66.24 Kg/s\n",
      "Original outgoing pipe (2nd scenario) 66 traversed by mass flow rates with nominal value of 65.80 Kg/s\n",
      "Thermal loads conservation (1st scenario) MARE = 0.0892 % with std 0.1724\n",
      "Thermal loads conservation (2nd scenario) MARE = 0.6524 % with std 0.2160\n",
      "Source return temperature conservation (1st scenario) MAE = 0.0085 °C with std 0.0114\n",
      "Source return temperature conservation (2nd scenario) MAE = 0.0087 °C with std 0.0137\n",
      "Source generation power conservation (1st scenario) MARE = 0.0207 % with std 0.0275\n",
      "Source generation power conservation (2nd scenario) MARE = 0.0214 % with std 0.0338\n"
     ]
    }
   ],
   "source": [
    "get_hybrid_simulation_performances([\"g\", \"manual_1\"], \"g_manual_1\", all_performances_dict=all_clusters_performances)"
   ]
  },
  {
   "cell_type": "markdown",
   "metadata": {},
   "source": [
    "### Aggregation performances"
   ]
  },
  {
   "cell_type": "markdown",
   "metadata": {},
   "source": [
    "We measure in terms of accuracy and resolution time gains the potential benefits of our proposed aggregation framework"
   ]
  },
  {
   "cell_type": "markdown",
   "metadata": {},
   "source": [
    "Transforming dictionaries into pandas table ..."
   ]
  },
  {
   "cell_type": "code",
   "execution_count": 101,
   "metadata": {},
   "outputs": [],
   "source": [
    "# Pandas dataframe table \n",
    "\n",
    "df_ = pd.DataFrame.from_records(all_clusters_performances).T\n",
    "df_.sort_values(by=['clustered_nodes_percentage'], inplace=True) # We sort by size"
   ]
  },
  {
   "cell_type": "markdown",
   "metadata": {},
   "source": [
    "We visualize using boxplots the distribution of relative errors in the generated powers by the source for different clusters."
   ]
  },
  {
   "cell_type": "code",
   "execution_count": 102,
   "metadata": {},
   "outputs": [
    {
     "data": {
      "image/png": "[encoded data removed]",
      "text/plain": [
       "<Figure size 800x600 with 1 Axes>"
      ]
     },
     "metadata": {},
     "output_type": "display_data"
    }
   ],
   "source": [
    "# Figure\n",
    "\n",
    "fig, ax = plt.subplots(figsize=(8,6))\n",
    "\n",
    "ax2 = ax.secondary_xaxis('top')\n",
    "x_axis = []\n",
    "x2_axis = []\n",
    "position = 0\n",
    "for key, row in df_.iterrows():\n",
    "    if key == 'c':\n",
    "        continue\n",
    "    x_axis.append(int(np.round(row['clustered_nodes_percentage'])))\n",
    "    x2_axis.append(int(np.round(row['clustered_pipes_percentage'])))\n",
    "    ax.boxplot(row['1st_scenario_pw_source'], positions=[position], patch_artist=True,\n",
    "                        widths=0.4,\n",
    "                        showfliers=False,\n",
    "                        boxprops={'color':'black', 'facecolor':'black', 'alpha':0.6},\n",
    "                        flierprops={'color': 'black'},\n",
    "                        capprops={'color': 'black'},\n",
    "                        whiskerprops={'color': 'black'},\n",
    "                        medianprops={'color': 'black'})\n",
    "\n",
    "    position += 1\n",
    "\n",
    "# ax2.cla()\n",
    "ax2.set_xlabel('Percentage of pipes aggregated (%)', fontdict={'color': 'black', 'size': 14})\n",
    "ax2.tick_params(axis='x', colors='black', labelsize=14)\n",
    "ax2.set_xticks(range(position))\n",
    "ax2.set_xticklabels(x2_axis)\n",
    "set_my_layout(ax=ax, xlabel='Percentage of nodes aggregated (%)', ylabel='Relative error in generated power (%)', \n",
    "              set_legend=False,\n",
    "              legend_loc=[1.01,0.01])\n",
    "ax.set_xticklabels(x_axis) \n",
    "plt.savefig(os.path.join('.', 'ARTICLE_images_plots','Distribution_errors_hybrids_power_generated_rnn.svg'))\n",
    "plt.show()"
   ]
  },
  {
   "cell_type": "markdown",
   "metadata": {},
   "source": [
    "Here we assess the reduction of simulation time (s) per time step. The effective simulation time is given by the physical simulation (full network and reduced network) with the prediction times. \n",
    "\n",
    "The reader may notice that the inference times of ML models differ from than present in the paper. Indeed, our experiments have shown slightly different inference times of the ML models from python execution and julia execution (in PyCall [https://github.com/JuliaPy/PyCall.jl]) environments. Several executions have been run and average times are considered. CPU times depend on local computing powers and results reported below have been achieved on our local computer. They may differ from other executions setups (computation power available, CPU current usage, memory usage, etc.). However, they give indications of the expected trends of execution times decreases."
   ]
  },
  {
   "cell_type": "code",
   "execution_count": 247,
   "metadata": {},
   "outputs": [
    {
     "data": {
      "image/png": "[encoded data removed]",
      "text/plain": [
       "<Figure size 800x600 with 1 Axes>"
      ]
     },
     "metadata": {},
     "output_type": "display_data"
    }
   ],
   "source": [
    "rnn_mean_inference_time = 0.01 # second # from Julia call (different from python 20 ms about)\n",
    "cnn_mean_inference_time = 0.0098 # second # from Julia call (different from python 18 ms about) # about 2 ms of differences\n",
    "\n",
    "resolution_times_from_julia = {\n",
    "   'a': 1.963,\n",
    "   'b': 1.895,\n",
    "   'd': 1.81,\n",
    "   'e': 1.68,\n",
    "   'f': 1.20,\n",
    "   'm': 1.66,\n",
    "   'g_manual_1': 1.41,\n",
    "   'f_manual_1': 0.72,\n",
    "}\n",
    "\n",
    "resolution_time_original = np.mean([2.38, 2.2, 2.685])\n",
    "\n",
    "x_axis = []\n",
    "x2_axis = []\n",
    "y_axis = []\n",
    "y_axis_cnn = []\n",
    "for key, row in df_.iterrows():\n",
    "   if key == 'c': # We pass c as it has the same number of nodes as d\n",
    "      continue\n",
    "   y_axis.append(resolution_times_from_julia[key] + rnn_mean_inference_time*60)\n",
    "   y_axis_cnn.append(resolution_times_from_julia[key] + cnn_mean_inference_time*60)\n",
    "   \n",
    "   x_axis.append(int(np.round(df_.loc[key]['clustered_nodes_percentage'])))\n",
    "   x2_axis.append(int(np.round(df_.loc[key]['clustered_pipes_percentage'])))\n",
    "   \n",
    "poly_fit = np.polyfit(x_axis, y_axis, 1)\n",
    "fig, ax = plt.subplots(figsize=(8,6))\n",
    "ax.scatter([0], [resolution_time_original], marker='v', color='black', s=150, label='full network', alpha=0.8)\n",
    "ax.scatter(range(1,len(y_axis)+1), y_axis, alpha=0.7, s=220, marker='*', label='reduced network (hybrid with RNN v1)', c='black')\n",
    "ax.scatter(range(1,len(y_axis)+1), y_axis_cnn, alpha=0.6, s=500, marker='.', label='reduced network (hybrid with CNN v2)', c='black')\n",
    "ax.axhline(y=resolution_time_original, color='black', linestyle='--')\n",
    "axs = ax.get_xticks()\n",
    "\n",
    "set_my_layout(ax=ax, xlabel='Number of nodes aggregated', ylabel='Resolutime time per time step (s)',\n",
    "              set_legend=True)\n",
    "\n",
    "ax.legend(['full network', 'reduced network (hybrid with RNN v1)', 'reduced network (hybrid with CNN v2)'], prop={'size': 14},\n",
    "          loc=[0.01,0.01])\n",
    "\n",
    "ax.set_xticks(range(len(ax.get_xticks())))\n",
    "ax.set_xlim([-0.5,8.5])\n",
    "x_ = [0]\n",
    "x_.extend(x_axis)\n",
    "x_.append(0)\n",
    "x_.append(0)\n",
    "ax.set_xticklabels(x_)\n",
    "\n",
    "plt.savefig(os.path.join('.', 'ARTICLE_images_plots', 'resolution_time_reduction.svg'))\n",
    "plt.show()"
   ]
  }
 ],
 "metadata": {
  "kernelspec": {
   "display_name": ".venv",
   "language": "python",
   "name": "python3"
  },
  "language_info": {
   "codemirror_mode": {
    "name": "ipython",
    "version": 3
   },
   "file_extension": ".py",
   "mimetype": "text/x-python",
   "name": "python",
   "nbconvert_exporter": "python",
   "pygments_lexer": "ipython3",
   "version": "3.9.12"
  },
  "orig_nbformat": 4
 },
 "nbformat": 4,
 "nbformat_minor": 2
}
